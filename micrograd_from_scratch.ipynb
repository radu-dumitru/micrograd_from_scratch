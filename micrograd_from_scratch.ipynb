{
  "nbformat": 4,
  "nbformat_minor": 0,
  "metadata": {
    "colab": {
      "provenance": [],
      "authorship_tag": "ABX9TyOWFxQ3qODrEmrVqfM5HHkI",
      "include_colab_link": true
    },
    "kernelspec": {
      "name": "python3",
      "display_name": "Python 3"
    },
    "language_info": {
      "name": "python"
    }
  },
  "cells": [
    {
      "cell_type": "markdown",
      "metadata": {
        "id": "view-in-github",
        "colab_type": "text"
      },
      "source": [
        "<a href=\"https://colab.research.google.com/github/radu-dumitru/micrograd_from_scratch/blob/main/micrograd_from_scratch.ipynb\" target=\"_parent\"><img src=\"https://colab.research.google.com/assets/colab-badge.svg\" alt=\"Open In Colab\"/></a>"
      ]
    },
    {
      "cell_type": "code",
      "source": [
        "import math\n",
        "from graphviz import Digraph\n",
        "import random"
      ],
      "metadata": {
        "id": "Odd4y5T_CUuZ"
      },
      "execution_count": 1104,
      "outputs": []
    },
    {
      "cell_type": "code",
      "execution_count": 1105,
      "metadata": {
        "id": "lpv0t1mUujHv"
      },
      "outputs": [],
      "source": [
        "class Value:\n",
        "  def __init__(self, data, _children=(), _op='', label=''):\n",
        "    self.data = data\n",
        "    self.grad = 0.0\n",
        "    self._backward = lambda: None\n",
        "    self._prev = set(_children)\n",
        "    self._op = _op\n",
        "    self.label = label\n",
        "\n",
        "  def __repr__(self):\n",
        "    return f\"Value(data={self.data})\"\n",
        "\n",
        "  def __add__(self, other):\n",
        "    other = other if isinstance(other, Value) else Value(other)\n",
        "    out = Value(self.data + other.data, (self, other), '+')\n",
        "\n",
        "    def _backward():\n",
        "      self.grad += 1.0 * out.grad\n",
        "      other.grad += 1.0 * out.grad\n",
        "    out._backward = _backward\n",
        "\n",
        "    return out\n",
        "\n",
        "  def __mul__(self, other):\n",
        "    other = other if isinstance(other, Value) else Value(other)\n",
        "    out = Value(self.data * other.data, (self, other), '*')\n",
        "\n",
        "    def _backward():\n",
        "      self.grad += other.data * out.grad\n",
        "      other.grad += self.data * out.grad\n",
        "    out._backward = _backward\n",
        "\n",
        "    return out\n",
        "\n",
        "  def __pow__(self, other):\n",
        "    assert isinstance(other, (int, float)), \"only supporting int/float powers for now\"\n",
        "    out = Value(self.data ** other, (self, ), f'**{other}')\n",
        "\n",
        "    def _backward():\n",
        "      self.grad += other * (self.data ** (other - 1)) * out.grad\n",
        "    out._backward = _backward\n",
        "\n",
        "    return out\n",
        "\n",
        "  def __rmul__(self, other): # other * self\n",
        "    return self * other\n",
        "\n",
        "  def __truediv__(self, other): # self / other\n",
        "    return self * other ** -1\n",
        "\n",
        "  def __neg__(self): # -self\n",
        "    return self * -1\n",
        "\n",
        "  def __sub__(self, other ): # self - other\n",
        "    return self + (-other)\n",
        "\n",
        "  def __radd__(self, other): # other + self\n",
        "    return self + other\n",
        "\n",
        "  def tanh(self):\n",
        "    x = self.data\n",
        "    t = (math.exp(2 * x) -1) / (math.exp(2 * x) + 1)\n",
        "    out = Value(t, (self, ), 'tanh')\n",
        "\n",
        "    def _backward():\n",
        "      self.grad += (1 - t ** 2) * out.grad\n",
        "    out._backward = _backward\n",
        "\n",
        "    return out\n",
        "\n",
        "  def exp(self):\n",
        "    x = self.data\n",
        "    out = Value(math.exp(x), (self, ), 'exp')\n",
        "\n",
        "    def _backward():\n",
        "      self.grad += out.data * out.grad\n",
        "    out._backward = _backward\n",
        "\n",
        "    return out\n",
        "\n",
        "  def backward(self):\n",
        "    # topological sort = a laying out a graph such that all the edges go only from left to right\n",
        "    topo = []\n",
        "    visited = set()\n",
        "    def build_topo(v):\n",
        "      if v not in visited:\n",
        "        visited.add(v)\n",
        "        for child in v._prev:\n",
        "          build_topo(child)\n",
        "        topo.append(v)\n",
        "    build_topo(self)\n",
        "\n",
        "    self.grad = 1.0\n",
        "    for node in reversed(topo):\n",
        "      node._backward()"
      ]
    },
    {
      "cell_type": "code",
      "source": [
        "def trace(root):\n",
        "  # builds a set of all nodes and edges in a graph\n",
        "  nodes, edges = set(), set()\n",
        "  def build(v):\n",
        "    if v not in nodes:\n",
        "      nodes.add(v)\n",
        "      for child in v._prev:\n",
        "        edges.add((child, v))\n",
        "        build(child)\n",
        "  build(root)\n",
        "  return nodes, edges\n",
        "\n",
        "def draw_dot(root):\n",
        "  dot = Digraph(format = 'svg', graph_attr={'rankdir': 'LR'}) # LR = left to right\n",
        "\n",
        "  nodes, edges = trace(root)\n",
        "  for n in nodes:\n",
        "    uid = str(id(n))\n",
        "    # for any value in the graph, create a rectangular ('record') node for it\n",
        "    dot.node(name = uid, label = \"{ %s | data %.4f | grad %.4f }\" % (n.label, n.data, n.grad), shape='record')\n",
        "    if n._op:\n",
        "      # if this value is a result of some operation, create an op node for it\n",
        "      dot.node(name = uid + n._op, label = n._op)\n",
        "      # and connect this node to it\n",
        "      dot.edge(uid + n._op, uid)\n",
        "\n",
        "  for n1, n2 in edges:\n",
        "    # connect n1 to the op node of n2\n",
        "    dot.edge(str(id(n1)), str(id(n2)) + n2._op)\n",
        "\n",
        "  return dot"
      ],
      "metadata": {
        "id": "3E-zO1XkNMuV"
      },
      "execution_count": 1106,
      "outputs": []
    },
    {
      "cell_type": "code",
      "source": [
        "# inputs x1, x2\n",
        "x1 = Value(2.0, label='x1')\n",
        "x2 = Value(0.0, label='x2')\n",
        "\n",
        "# weights w1, w2\n",
        "w1 = Value(-3.0, label='w1')\n",
        "w2 = Value(1.0, label='w2')\n",
        "\n",
        "# bias of the neuron\n",
        "b = Value(6.8813735870195432, label='b')\n",
        "\n",
        "# x1*w1 + x2*w2 + b\n",
        "x1w1 = x1 * w1; x1w1.label = 'x1*w1'\n",
        "x2w2 = x2 * w2; x2w2.label = 'x2*w2'\n",
        "x1w1x2w2 = x1w1 + x2w2; x1w1x2w2.label = 'x1*w1 + x2*w2'\n",
        "n = x1w1x2w2 + b; n.label = 'n'\n",
        "o = n.tanh(); o.label = 'o'\n",
        "\n",
        "o.backward()\n",
        "draw_dot(o)\n"
      ],
      "metadata": {
        "id": "KVfDUsLfQAKa",
        "colab": {
          "base_uri": "https://localhost:8080/",
          "height": 322
        },
        "outputId": "af1cdd80-4b1d-435d-cc75-58c62531a5e3"
      },
      "execution_count": 1107,
      "outputs": [
        {
          "output_type": "execute_result",
          "data": {
            "image/svg+xml": "<?xml version=\"1.0\" encoding=\"UTF-8\" standalone=\"no\"?>\n<!DOCTYPE svg PUBLIC \"-//W3C//DTD SVG 1.1//EN\"\n \"http://www.w3.org/Graphics/SVG/1.1/DTD/svg11.dtd\">\n<!-- Generated by graphviz version 2.43.0 (0)\n -->\n<!-- Title: %3 Pages: 1 -->\n<svg width=\"1575pt\" height=\"210pt\"\n viewBox=\"0.00 0.00 1575.00 210.00\" xmlns=\"http://www.w3.org/2000/svg\" xmlns:xlink=\"http://www.w3.org/1999/xlink\">\n<g id=\"graph0\" class=\"graph\" transform=\"scale(1 1) rotate(0) translate(4 206)\">\n<title>%3</title>\n<polygon fill=\"white\" stroke=\"transparent\" points=\"-4,4 -4,-206 1571,-206 1571,4 -4,4\"/>\n<!-- 134557433668144 -->\n<g id=\"node1\" class=\"node\">\n<title>134557433668144</title>\n<polygon fill=\"none\" stroke=\"black\" points=\"0,-165.5 0,-201.5 200,-201.5 200,-165.5 0,-165.5\"/>\n<text text-anchor=\"middle\" x=\"16.5\" y=\"-179.8\" font-family=\"Times,serif\" font-size=\"14.00\">w1</text>\n<polyline fill=\"none\" stroke=\"black\" points=\"33,-165.5 33,-201.5 \"/>\n<text text-anchor=\"middle\" x=\"75.5\" y=\"-179.8\" font-family=\"Times,serif\" font-size=\"14.00\">data &#45;3.0000</text>\n<polyline fill=\"none\" stroke=\"black\" points=\"118,-165.5 118,-201.5 \"/>\n<text text-anchor=\"middle\" x=\"159\" y=\"-179.8\" font-family=\"Times,serif\" font-size=\"14.00\">grad 1.0000</text>\n</g>\n<!-- 134557433662288* -->\n<g id=\"node9\" class=\"node\">\n<title>134557433662288*</title>\n<ellipse fill=\"none\" stroke=\"black\" cx=\"263\" cy=\"-128.5\" rx=\"27\" ry=\"18\"/>\n<text text-anchor=\"middle\" x=\"263\" y=\"-124.8\" font-family=\"Times,serif\" font-size=\"14.00\">*</text>\n</g>\n<!-- 134557433668144&#45;&gt;134557433662288* -->\n<g id=\"edge8\" class=\"edge\">\n<title>134557433668144&#45;&gt;134557433662288*</title>\n<path fill=\"none\" stroke=\"black\" d=\"M172.53,-165.44C181.84,-162.67 191.2,-159.67 200,-156.5 210.53,-152.71 221.75,-147.9 231.72,-143.33\"/>\n<polygon fill=\"black\" stroke=\"black\" points=\"233.25,-146.48 240.82,-139.07 230.28,-140.14 233.25,-146.48\"/>\n</g>\n<!-- 134557433667040 -->\n<g id=\"node2\" class=\"node\">\n<title>134557433667040</title>\n<polygon fill=\"none\" stroke=\"black\" points=\"2,-110.5 2,-146.5 198,-146.5 198,-110.5 2,-110.5\"/>\n<text text-anchor=\"middle\" x=\"17\" y=\"-124.8\" font-family=\"Times,serif\" font-size=\"14.00\">x1</text>\n<polyline fill=\"none\" stroke=\"black\" points=\"32,-110.5 32,-146.5 \"/>\n<text text-anchor=\"middle\" x=\"72\" y=\"-124.8\" font-family=\"Times,serif\" font-size=\"14.00\">data 2.0000</text>\n<polyline fill=\"none\" stroke=\"black\" points=\"112,-110.5 112,-146.5 \"/>\n<text text-anchor=\"middle\" x=\"155\" y=\"-124.8\" font-family=\"Times,serif\" font-size=\"14.00\">grad &#45;1.5000</text>\n</g>\n<!-- 134557433667040&#45;&gt;134557433662288* -->\n<g id=\"edge6\" class=\"edge\">\n<title>134557433667040&#45;&gt;134557433662288*</title>\n<path fill=\"none\" stroke=\"black\" d=\"M198.37,-128.5C208.05,-128.5 217.4,-128.5 225.8,-128.5\"/>\n<polygon fill=\"black\" stroke=\"black\" points=\"225.91,-132 235.91,-128.5 225.91,-125 225.91,-132\"/>\n</g>\n<!-- 134557433663152 -->\n<g id=\"node3\" class=\"node\">\n<title>134557433663152</title>\n<polygon fill=\"none\" stroke=\"black\" points=\"2.5,-55.5 2.5,-91.5 197.5,-91.5 197.5,-55.5 2.5,-55.5\"/>\n<text text-anchor=\"middle\" x=\"19\" y=\"-69.8\" font-family=\"Times,serif\" font-size=\"14.00\">w2</text>\n<polyline fill=\"none\" stroke=\"black\" points=\"35.5,-55.5 35.5,-91.5 \"/>\n<text text-anchor=\"middle\" x=\"75.5\" y=\"-69.8\" font-family=\"Times,serif\" font-size=\"14.00\">data 1.0000</text>\n<polyline fill=\"none\" stroke=\"black\" points=\"115.5,-55.5 115.5,-91.5 \"/>\n<text text-anchor=\"middle\" x=\"156.5\" y=\"-69.8\" font-family=\"Times,serif\" font-size=\"14.00\">grad 0.0000</text>\n</g>\n<!-- 134557430150480* -->\n<g id=\"node5\" class=\"node\">\n<title>134557430150480*</title>\n<ellipse fill=\"none\" stroke=\"black\" cx=\"263\" cy=\"-73.5\" rx=\"27\" ry=\"18\"/>\n<text text-anchor=\"middle\" x=\"263\" y=\"-69.8\" font-family=\"Times,serif\" font-size=\"14.00\">*</text>\n</g>\n<!-- 134557433663152&#45;&gt;134557430150480* -->\n<g id=\"edge10\" class=\"edge\">\n<title>134557433663152&#45;&gt;134557430150480*</title>\n<path fill=\"none\" stroke=\"black\" d=\"M197.91,-73.5C207.65,-73.5 217.05,-73.5 225.52,-73.5\"/>\n<polygon fill=\"black\" stroke=\"black\" points=\"225.7,-77 235.7,-73.5 225.7,-70 225.7,-77\"/>\n</g>\n<!-- 134557430150480 -->\n<g id=\"node4\" class=\"node\">\n<title>134557430150480</title>\n<polygon fill=\"none\" stroke=\"black\" points=\"328.5,-55.5 328.5,-91.5 543.5,-91.5 543.5,-55.5 328.5,-55.5\"/>\n<text text-anchor=\"middle\" x=\"355\" y=\"-69.8\" font-family=\"Times,serif\" font-size=\"14.00\">x2*w2</text>\n<polyline fill=\"none\" stroke=\"black\" points=\"381.5,-55.5 381.5,-91.5 \"/>\n<text text-anchor=\"middle\" x=\"421.5\" y=\"-69.8\" font-family=\"Times,serif\" font-size=\"14.00\">data 0.0000</text>\n<polyline fill=\"none\" stroke=\"black\" points=\"461.5,-55.5 461.5,-91.5 \"/>\n<text text-anchor=\"middle\" x=\"502.5\" y=\"-69.8\" font-family=\"Times,serif\" font-size=\"14.00\">grad 0.5000</text>\n</g>\n<!-- 134557430143952+ -->\n<g id=\"node13\" class=\"node\">\n<title>134557430143952+</title>\n<ellipse fill=\"none\" stroke=\"black\" cx=\"609\" cy=\"-100.5\" rx=\"27\" ry=\"18\"/>\n<text text-anchor=\"middle\" x=\"609\" y=\"-96.8\" font-family=\"Times,serif\" font-size=\"14.00\">+</text>\n</g>\n<!-- 134557430150480&#45;&gt;134557430143952+ -->\n<g id=\"edge14\" class=\"edge\">\n<title>134557430150480&#45;&gt;134557430143952+</title>\n<path fill=\"none\" stroke=\"black\" d=\"M543.84,-90.37C554.01,-91.98 563.76,-93.51 572.44,-94.89\"/>\n<polygon fill=\"black\" stroke=\"black\" points=\"572.05,-98.37 582.47,-96.47 573.14,-91.45 572.05,-98.37\"/>\n</g>\n<!-- 134557430150480*&#45;&gt;134557430150480 -->\n<g id=\"edge1\" class=\"edge\">\n<title>134557430150480*&#45;&gt;134557430150480</title>\n<path fill=\"none\" stroke=\"black\" d=\"M290.34,-73.5C298.51,-73.5 308.08,-73.5 318.36,-73.5\"/>\n<polygon fill=\"black\" stroke=\"black\" points=\"318.39,-77 328.39,-73.5 318.39,-70 318.39,-77\"/>\n</g>\n<!-- 134557430146400 -->\n<g id=\"node6\" class=\"node\">\n<title>134557430146400</title>\n<polygon fill=\"none\" stroke=\"black\" points=\"1071,-54.5 1071,-90.5 1256,-90.5 1256,-54.5 1071,-54.5\"/>\n<text text-anchor=\"middle\" x=\"1082.5\" y=\"-68.8\" font-family=\"Times,serif\" font-size=\"14.00\">n</text>\n<polyline fill=\"none\" stroke=\"black\" points=\"1094,-54.5 1094,-90.5 \"/>\n<text text-anchor=\"middle\" x=\"1134\" y=\"-68.8\" font-family=\"Times,serif\" font-size=\"14.00\">data 0.8814</text>\n<polyline fill=\"none\" stroke=\"black\" points=\"1174,-54.5 1174,-90.5 \"/>\n<text text-anchor=\"middle\" x=\"1215\" y=\"-68.8\" font-family=\"Times,serif\" font-size=\"14.00\">grad 0.5000</text>\n</g>\n<!-- 134557430149088tanh -->\n<g id=\"node15\" class=\"node\">\n<title>134557430149088tanh</title>\n<ellipse fill=\"none\" stroke=\"black\" cx=\"1319\" cy=\"-72.5\" rx=\"27\" ry=\"18\"/>\n<text text-anchor=\"middle\" x=\"1319\" y=\"-68.8\" font-family=\"Times,serif\" font-size=\"14.00\">tanh</text>\n</g>\n<!-- 134557430146400&#45;&gt;134557430149088tanh -->\n<g id=\"edge13\" class=\"edge\">\n<title>134557430146400&#45;&gt;134557430149088tanh</title>\n<path fill=\"none\" stroke=\"black\" d=\"M1256.01,-72.5C1265.01,-72.5 1273.74,-72.5 1281.66,-72.5\"/>\n<polygon fill=\"black\" stroke=\"black\" points=\"1281.91,-76 1291.91,-72.5 1281.91,-69 1281.91,-76\"/>\n</g>\n<!-- 134557430146400+ -->\n<g id=\"node7\" class=\"node\">\n<title>134557430146400+</title>\n<ellipse fill=\"none\" stroke=\"black\" cx=\"1008\" cy=\"-72.5\" rx=\"27\" ry=\"18\"/>\n<text text-anchor=\"middle\" x=\"1008\" y=\"-68.8\" font-family=\"Times,serif\" font-size=\"14.00\">+</text>\n</g>\n<!-- 134557430146400+&#45;&gt;134557430146400 -->\n<g id=\"edge2\" class=\"edge\">\n<title>134557430146400+&#45;&gt;134557430146400</title>\n<path fill=\"none\" stroke=\"black\" d=\"M1035.04,-72.5C1042.58,-72.5 1051.3,-72.5 1060.57,-72.5\"/>\n<polygon fill=\"black\" stroke=\"black\" points=\"1060.81,-76 1070.81,-72.5 1060.81,-69 1060.81,-76\"/>\n</g>\n<!-- 134557433662288 -->\n<g id=\"node8\" class=\"node\">\n<title>134557433662288</title>\n<polygon fill=\"none\" stroke=\"black\" points=\"326,-110.5 326,-146.5 546,-146.5 546,-110.5 326,-110.5\"/>\n<text text-anchor=\"middle\" x=\"352.5\" y=\"-124.8\" font-family=\"Times,serif\" font-size=\"14.00\">x1*w1</text>\n<polyline fill=\"none\" stroke=\"black\" points=\"379,-110.5 379,-146.5 \"/>\n<text text-anchor=\"middle\" x=\"421.5\" y=\"-124.8\" font-family=\"Times,serif\" font-size=\"14.00\">data &#45;6.0000</text>\n<polyline fill=\"none\" stroke=\"black\" points=\"464,-110.5 464,-146.5 \"/>\n<text text-anchor=\"middle\" x=\"505\" y=\"-124.8\" font-family=\"Times,serif\" font-size=\"14.00\">grad 0.5000</text>\n</g>\n<!-- 134557433662288&#45;&gt;134557430143952+ -->\n<g id=\"edge9\" class=\"edge\">\n<title>134557433662288&#45;&gt;134557430143952+</title>\n<path fill=\"none\" stroke=\"black\" d=\"M546.27,-110.61C555.64,-109.07 564.6,-107.61 572.65,-106.29\"/>\n<polygon fill=\"black\" stroke=\"black\" points=\"573.35,-109.72 582.65,-104.65 572.22,-102.81 573.35,-109.72\"/>\n</g>\n<!-- 134557433662288*&#45;&gt;134557433662288 -->\n<g id=\"edge3\" class=\"edge\">\n<title>134557433662288*&#45;&gt;134557433662288</title>\n<path fill=\"none\" stroke=\"black\" d=\"M290.34,-128.5C297.77,-128.5 306.37,-128.5 315.6,-128.5\"/>\n<polygon fill=\"black\" stroke=\"black\" points=\"315.84,-132 325.84,-128.5 315.84,-125 315.84,-132\"/>\n</g>\n<!-- 134557433673568 -->\n<g id=\"node10\" class=\"node\">\n<title>134557433673568</title>\n<polygon fill=\"none\" stroke=\"black\" points=\"716,-27.5 716,-63.5 901,-63.5 901,-27.5 716,-27.5\"/>\n<text text-anchor=\"middle\" x=\"727.5\" y=\"-41.8\" font-family=\"Times,serif\" font-size=\"14.00\">b</text>\n<polyline fill=\"none\" stroke=\"black\" points=\"739,-27.5 739,-63.5 \"/>\n<text text-anchor=\"middle\" x=\"779\" y=\"-41.8\" font-family=\"Times,serif\" font-size=\"14.00\">data 6.8814</text>\n<polyline fill=\"none\" stroke=\"black\" points=\"819,-27.5 819,-63.5 \"/>\n<text text-anchor=\"middle\" x=\"860\" y=\"-41.8\" font-family=\"Times,serif\" font-size=\"14.00\">grad 0.5000</text>\n</g>\n<!-- 134557433673568&#45;&gt;134557430146400+ -->\n<g id=\"edge12\" class=\"edge\">\n<title>134557433673568&#45;&gt;134557430146400+</title>\n<path fill=\"none\" stroke=\"black\" d=\"M901.02,-58.01C926,-61.43 951.59,-64.93 971.37,-67.63\"/>\n<polygon fill=\"black\" stroke=\"black\" points=\"971.05,-71.12 981.43,-69.01 972,-64.18 971.05,-71.12\"/>\n</g>\n<!-- 134557433662912 -->\n<g id=\"node11\" class=\"node\">\n<title>134557433662912</title>\n<polygon fill=\"none\" stroke=\"black\" points=\"4,-0.5 4,-36.5 196,-36.5 196,-0.5 4,-0.5\"/>\n<text text-anchor=\"middle\" x=\"19\" y=\"-14.8\" font-family=\"Times,serif\" font-size=\"14.00\">x2</text>\n<polyline fill=\"none\" stroke=\"black\" points=\"34,-0.5 34,-36.5 \"/>\n<text text-anchor=\"middle\" x=\"74\" y=\"-14.8\" font-family=\"Times,serif\" font-size=\"14.00\">data 0.0000</text>\n<polyline fill=\"none\" stroke=\"black\" points=\"114,-0.5 114,-36.5 \"/>\n<text text-anchor=\"middle\" x=\"155\" y=\"-14.8\" font-family=\"Times,serif\" font-size=\"14.00\">grad 0.5000</text>\n</g>\n<!-- 134557433662912&#45;&gt;134557430150480* -->\n<g id=\"edge11\" class=\"edge\">\n<title>134557433662912&#45;&gt;134557430150480*</title>\n<path fill=\"none\" stroke=\"black\" d=\"M169.28,-36.5C179.65,-39.61 190.16,-42.98 200,-46.5 210.28,-50.17 221.28,-54.74 231.11,-59.07\"/>\n<polygon fill=\"black\" stroke=\"black\" points=\"229.93,-62.37 240.48,-63.27 232.79,-55.99 229.93,-62.37\"/>\n</g>\n<!-- 134557430143952 -->\n<g id=\"node12\" class=\"node\">\n<title>134557430143952</title>\n<polygon fill=\"none\" stroke=\"black\" points=\"672,-82.5 672,-118.5 945,-118.5 945,-82.5 672,-82.5\"/>\n<text text-anchor=\"middle\" x=\"725\" y=\"-96.8\" font-family=\"Times,serif\" font-size=\"14.00\">x1*w1 + x2*w2</text>\n<polyline fill=\"none\" stroke=\"black\" points=\"778,-82.5 778,-118.5 \"/>\n<text text-anchor=\"middle\" x=\"820.5\" y=\"-96.8\" font-family=\"Times,serif\" font-size=\"14.00\">data &#45;6.0000</text>\n<polyline fill=\"none\" stroke=\"black\" points=\"863,-82.5 863,-118.5 \"/>\n<text text-anchor=\"middle\" x=\"904\" y=\"-96.8\" font-family=\"Times,serif\" font-size=\"14.00\">grad 0.5000</text>\n</g>\n<!-- 134557430143952&#45;&gt;134557430146400+ -->\n<g id=\"edge7\" class=\"edge\">\n<title>134557430143952&#45;&gt;134557430146400+</title>\n<path fill=\"none\" stroke=\"black\" d=\"M936.53,-82.49C949.09,-80.71 960.99,-79.02 971.3,-77.56\"/>\n<polygon fill=\"black\" stroke=\"black\" points=\"972.03,-80.99 981.44,-76.12 971.05,-74.06 972.03,-80.99\"/>\n</g>\n<!-- 134557430143952+&#45;&gt;134557430143952 -->\n<g id=\"edge4\" class=\"edge\">\n<title>134557430143952+&#45;&gt;134557430143952</title>\n<path fill=\"none\" stroke=\"black\" d=\"M636.23,-100.5C643.7,-100.5 652.41,-100.5 661.87,-100.5\"/>\n<polygon fill=\"black\" stroke=\"black\" points=\"661.98,-104 671.98,-100.5 661.98,-97 661.98,-104\"/>\n</g>\n<!-- 134557430149088 -->\n<g id=\"node14\" class=\"node\">\n<title>134557430149088</title>\n<polygon fill=\"none\" stroke=\"black\" points=\"1382,-54.5 1382,-90.5 1567,-90.5 1567,-54.5 1382,-54.5\"/>\n<text text-anchor=\"middle\" x=\"1393.5\" y=\"-68.8\" font-family=\"Times,serif\" font-size=\"14.00\">o</text>\n<polyline fill=\"none\" stroke=\"black\" points=\"1405,-54.5 1405,-90.5 \"/>\n<text text-anchor=\"middle\" x=\"1445\" y=\"-68.8\" font-family=\"Times,serif\" font-size=\"14.00\">data 0.7071</text>\n<polyline fill=\"none\" stroke=\"black\" points=\"1485,-54.5 1485,-90.5 \"/>\n<text text-anchor=\"middle\" x=\"1526\" y=\"-68.8\" font-family=\"Times,serif\" font-size=\"14.00\">grad 1.0000</text>\n</g>\n<!-- 134557430149088tanh&#45;&gt;134557430149088 -->\n<g id=\"edge5\" class=\"edge\">\n<title>134557430149088tanh&#45;&gt;134557430149088</title>\n<path fill=\"none\" stroke=\"black\" d=\"M1346.04,-72.5C1353.58,-72.5 1362.3,-72.5 1371.57,-72.5\"/>\n<polygon fill=\"black\" stroke=\"black\" points=\"1371.81,-76 1381.81,-72.5 1371.81,-69 1371.81,-76\"/>\n</g>\n</g>\n</svg>\n",
            "text/plain": [
              "<graphviz.graphs.Digraph at 0x7a6118092050>"
            ]
          },
          "metadata": {},
          "execution_count": 1107
        }
      ]
    },
    {
      "cell_type": "code",
      "source": [
        "# inputs x1, x2\n",
        "x1 = Value(2.0, label='x1')\n",
        "x2 = Value(0.0, label='x2')\n",
        "\n",
        "# weights w1, w2\n",
        "w1 = Value(-3.0, label='w1')\n",
        "w2 = Value(1.0, label='w2')\n",
        "\n",
        "# bias of the neuron\n",
        "b = Value(6.8813735870195432, label='b')\n",
        "\n",
        "# x1*w1 + x2*w2 + b\n",
        "x1w1 = x1 * w1; x1w1.label = 'x1*w1'\n",
        "x2w2 = x2 * w2; x2w2.label = 'x2*w2'\n",
        "x1w1x2w2 = x1w1 + x2w2; x1w1x2w2.label = 'x1*w1 + x2*w2'\n",
        "n = x1w1x2w2 + b; n.label = 'n'\n",
        "\n",
        "e = (2 * n).exp()\n",
        "o = (e - 1) / (e + 1)\n",
        "\n",
        "o.label = 'o'\n",
        "\n",
        "o.backward()\n",
        "draw_dot(o)"
      ],
      "metadata": {
        "colab": {
          "base_uri": "https://localhost:8080/",
          "height": 361
        },
        "id": "k3UCQvkW9n1d",
        "outputId": "eaada063-fa26-4dfb-ea48-d9d3d6177613"
      },
      "execution_count": 1108,
      "outputs": [
        {
          "output_type": "execute_result",
          "data": {
            "image/svg+xml": "<?xml version=\"1.0\" encoding=\"UTF-8\" standalone=\"no\"?>\n<!DOCTYPE svg PUBLIC \"-//W3C//DTD SVG 1.1//EN\"\n \"http://www.w3.org/Graphics/SVG/1.1/DTD/svg11.dtd\">\n<!-- Generated by graphviz version 2.43.0 (0)\n -->\n<!-- Title: %3 Pages: 1 -->\n<svg width=\"2944pt\" height=\"239pt\"\n viewBox=\"0.00 0.00 2944.00 239.00\" xmlns=\"http://www.w3.org/2000/svg\" xmlns:xlink=\"http://www.w3.org/1999/xlink\">\n<g id=\"graph0\" class=\"graph\" transform=\"scale(1 1) rotate(0) translate(4 235)\">\n<title>%3</title>\n<polygon fill=\"white\" stroke=\"transparent\" points=\"-4,4 -4,-235 2940,-235 2940,4 -4,4\"/>\n<!-- 134557430140928 -->\n<g id=\"node1\" class=\"node\">\n<title>134557430140928</title>\n<polygon fill=\"none\" stroke=\"black\" points=\"2225,-27.5 2225,-63.5 2407,-63.5 2407,-27.5 2225,-27.5\"/>\n<text text-anchor=\"middle\" x=\"2235\" y=\"-41.8\" font-family=\"Times,serif\" font-size=\"14.00\"> </text>\n<polyline fill=\"none\" stroke=\"black\" points=\"2245,-27.5 2245,-63.5 \"/>\n<text text-anchor=\"middle\" x=\"2285\" y=\"-41.8\" font-family=\"Times,serif\" font-size=\"14.00\">data 4.8284</text>\n<polyline fill=\"none\" stroke=\"black\" points=\"2325,-27.5 2325,-63.5 \"/>\n<text text-anchor=\"middle\" x=\"2366\" y=\"-41.8\" font-family=\"Times,serif\" font-size=\"14.00\">grad 0.1464</text>\n</g>\n<!-- 134557430152208* -->\n<g id=\"node4\" class=\"node\">\n<title>134557430152208*</title>\n<ellipse fill=\"none\" stroke=\"black\" cx=\"2688\" cy=\"-72.5\" rx=\"27\" ry=\"18\"/>\n<text text-anchor=\"middle\" x=\"2688\" y=\"-68.8\" font-family=\"Times,serif\" font-size=\"14.00\">*</text>\n</g>\n<!-- 134557430140928&#45;&gt;134557430152208* -->\n<g id=\"edge17\" class=\"edge\">\n<title>134557430140928&#45;&gt;134557430152208*</title>\n<path fill=\"none\" stroke=\"black\" d=\"M2407.04,-52.07C2485.41,-57.79 2594.98,-65.79 2650.96,-69.87\"/>\n<polygon fill=\"black\" stroke=\"black\" points=\"2650.87,-73.37 2661.1,-70.61 2651.38,-66.39 2650.87,-73.37\"/>\n</g>\n<!-- 134557430140928+ -->\n<g id=\"node2\" class=\"node\">\n<title>134557430140928+</title>\n<ellipse fill=\"none\" stroke=\"black\" cx=\"1940\" cy=\"-45.5\" rx=\"27\" ry=\"18\"/>\n<text text-anchor=\"middle\" x=\"1940\" y=\"-41.8\" font-family=\"Times,serif\" font-size=\"14.00\">+</text>\n</g>\n<!-- 134557430140928+&#45;&gt;134557430140928 -->\n<g id=\"edge1\" class=\"edge\">\n<title>134557430140928+&#45;&gt;134557430140928</title>\n<path fill=\"none\" stroke=\"black\" d=\"M1967,-45.5C2017.46,-45.5 2131.06,-45.5 2214.81,-45.5\"/>\n<polygon fill=\"black\" stroke=\"black\" points=\"2214.87,-49 2224.87,-45.5 2214.87,-42 2214.87,-49\"/>\n</g>\n<!-- 134557430152208 -->\n<g id=\"node3\" class=\"node\">\n<title>134557430152208</title>\n<polygon fill=\"none\" stroke=\"black\" points=\"2751,-54.5 2751,-90.5 2936,-90.5 2936,-54.5 2751,-54.5\"/>\n<text text-anchor=\"middle\" x=\"2762.5\" y=\"-68.8\" font-family=\"Times,serif\" font-size=\"14.00\">o</text>\n<polyline fill=\"none\" stroke=\"black\" points=\"2774,-54.5 2774,-90.5 \"/>\n<text text-anchor=\"middle\" x=\"2814\" y=\"-68.8\" font-family=\"Times,serif\" font-size=\"14.00\">data 0.7071</text>\n<polyline fill=\"none\" stroke=\"black\" points=\"2854,-54.5 2854,-90.5 \"/>\n<text text-anchor=\"middle\" x=\"2895\" y=\"-68.8\" font-family=\"Times,serif\" font-size=\"14.00\">grad 1.0000</text>\n</g>\n<!-- 134557430152208*&#45;&gt;134557430152208 -->\n<g id=\"edge2\" class=\"edge\">\n<title>134557430152208*&#45;&gt;134557430152208</title>\n<path fill=\"none\" stroke=\"black\" d=\"M2715.04,-72.5C2722.58,-72.5 2731.3,-72.5 2740.57,-72.5\"/>\n<polygon fill=\"black\" stroke=\"black\" points=\"2740.81,-76 2750.81,-72.5 2740.81,-69 2740.81,-76\"/>\n</g>\n<!-- 134557430149184 -->\n<g id=\"node5\" class=\"node\">\n<title>134557430149184</title>\n<polygon fill=\"none\" stroke=\"black\" points=\"1071,-83.5 1071,-119.5 1256,-119.5 1256,-83.5 1071,-83.5\"/>\n<text text-anchor=\"middle\" x=\"1082.5\" y=\"-97.8\" font-family=\"Times,serif\" font-size=\"14.00\">n</text>\n<polyline fill=\"none\" stroke=\"black\" points=\"1094,-83.5 1094,-119.5 \"/>\n<text text-anchor=\"middle\" x=\"1134\" y=\"-97.8\" font-family=\"Times,serif\" font-size=\"14.00\">data 0.8814</text>\n<polyline fill=\"none\" stroke=\"black\" points=\"1174,-83.5 1174,-119.5 \"/>\n<text text-anchor=\"middle\" x=\"1215\" y=\"-97.8\" font-family=\"Times,serif\" font-size=\"14.00\">grad 0.5000</text>\n</g>\n<!-- 134557430140832* -->\n<g id=\"node24\" class=\"node\">\n<title>134557430140832*</title>\n<ellipse fill=\"none\" stroke=\"black\" cx=\"1319\" cy=\"-73.5\" rx=\"27\" ry=\"18\"/>\n<text text-anchor=\"middle\" x=\"1319\" y=\"-69.8\" font-family=\"Times,serif\" font-size=\"14.00\">*</text>\n</g>\n<!-- 134557430149184&#45;&gt;134557430140832* -->\n<g id=\"edge15\" class=\"edge\">\n<title>134557430149184&#45;&gt;134557430140832*</title>\n<path fill=\"none\" stroke=\"black\" d=\"M1256.01,-84.81C1265.49,-83.08 1274.66,-81.41 1282.9,-79.9\"/>\n<polygon fill=\"black\" stroke=\"black\" points=\"1283.6,-83.33 1292.81,-78.09 1282.35,-76.45 1283.6,-83.33\"/>\n</g>\n<!-- 134557430149184+ -->\n<g id=\"node6\" class=\"node\">\n<title>134557430149184+</title>\n<ellipse fill=\"none\" stroke=\"black\" cx=\"1008\" cy=\"-101.5\" rx=\"27\" ry=\"18\"/>\n<text text-anchor=\"middle\" x=\"1008\" y=\"-97.8\" font-family=\"Times,serif\" font-size=\"14.00\">+</text>\n</g>\n<!-- 134557430149184+&#45;&gt;134557430149184 -->\n<g id=\"edge3\" class=\"edge\">\n<title>134557430149184+&#45;&gt;134557430149184</title>\n<path fill=\"none\" stroke=\"black\" d=\"M1035.04,-101.5C1042.58,-101.5 1051.3,-101.5 1060.57,-101.5\"/>\n<polygon fill=\"black\" stroke=\"black\" points=\"1060.81,-105 1070.81,-101.5 1060.81,-98 1060.81,-105\"/>\n</g>\n<!-- 134557430142848 -->\n<g id=\"node7\" class=\"node\">\n<title>134557430142848</title>\n<polygon fill=\"none\" stroke=\"black\" points=\"326,-139.5 326,-175.5 546,-175.5 546,-139.5 326,-139.5\"/>\n<text text-anchor=\"middle\" x=\"352.5\" y=\"-153.8\" font-family=\"Times,serif\" font-size=\"14.00\">x1*w1</text>\n<polyline fill=\"none\" stroke=\"black\" points=\"379,-139.5 379,-175.5 \"/>\n<text text-anchor=\"middle\" x=\"421.5\" y=\"-153.8\" font-family=\"Times,serif\" font-size=\"14.00\">data &#45;6.0000</text>\n<polyline fill=\"none\" stroke=\"black\" points=\"464,-139.5 464,-175.5 \"/>\n<text text-anchor=\"middle\" x=\"505\" y=\"-153.8\" font-family=\"Times,serif\" font-size=\"14.00\">grad 0.5000</text>\n</g>\n<!-- 134557430141600+ -->\n<g id=\"node13\" class=\"node\">\n<title>134557430141600+</title>\n<ellipse fill=\"none\" stroke=\"black\" cx=\"609\" cy=\"-129.5\" rx=\"27\" ry=\"18\"/>\n<text text-anchor=\"middle\" x=\"609\" y=\"-125.8\" font-family=\"Times,serif\" font-size=\"14.00\">+</text>\n</g>\n<!-- 134557430142848&#45;&gt;134557430141600+ -->\n<g id=\"edge14\" class=\"edge\">\n<title>134557430142848&#45;&gt;134557430141600+</title>\n<path fill=\"none\" stroke=\"black\" d=\"M546.27,-139.61C555.64,-138.07 564.6,-136.61 572.65,-135.29\"/>\n<polygon fill=\"black\" stroke=\"black\" points=\"573.35,-138.72 582.65,-133.65 572.22,-131.81 573.35,-138.72\"/>\n</g>\n<!-- 134557430142848* -->\n<g id=\"node8\" class=\"node\">\n<title>134557430142848*</title>\n<ellipse fill=\"none\" stroke=\"black\" cx=\"263\" cy=\"-157.5\" rx=\"27\" ry=\"18\"/>\n<text text-anchor=\"middle\" x=\"263\" y=\"-153.8\" font-family=\"Times,serif\" font-size=\"14.00\">*</text>\n</g>\n<!-- 134557430142848*&#45;&gt;134557430142848 -->\n<g id=\"edge4\" class=\"edge\">\n<title>134557430142848*&#45;&gt;134557430142848</title>\n<path fill=\"none\" stroke=\"black\" d=\"M290.34,-157.5C297.77,-157.5 306.37,-157.5 315.6,-157.5\"/>\n<polygon fill=\"black\" stroke=\"black\" points=\"315.84,-161 325.84,-157.5 315.84,-154 315.84,-161\"/>\n</g>\n<!-- 134557433660320 -->\n<g id=\"node9\" class=\"node\">\n<title>134557433660320</title>\n<polygon fill=\"none\" stroke=\"black\" points=\"2,-194.5 2,-230.5 198,-230.5 198,-194.5 2,-194.5\"/>\n<text text-anchor=\"middle\" x=\"17\" y=\"-208.8\" font-family=\"Times,serif\" font-size=\"14.00\">x1</text>\n<polyline fill=\"none\" stroke=\"black\" points=\"32,-194.5 32,-230.5 \"/>\n<text text-anchor=\"middle\" x=\"72\" y=\"-208.8\" font-family=\"Times,serif\" font-size=\"14.00\">data 2.0000</text>\n<polyline fill=\"none\" stroke=\"black\" points=\"112,-194.5 112,-230.5 \"/>\n<text text-anchor=\"middle\" x=\"155\" y=\"-208.8\" font-family=\"Times,serif\" font-size=\"14.00\">grad &#45;1.5000</text>\n</g>\n<!-- 134557433660320&#45;&gt;134557430142848* -->\n<g id=\"edge27\" class=\"edge\">\n<title>134557433660320&#45;&gt;134557430142848*</title>\n<path fill=\"none\" stroke=\"black\" d=\"M172.53,-194.44C181.84,-191.67 191.2,-188.67 200,-185.5 210.53,-181.71 221.75,-176.9 231.72,-172.33\"/>\n<polygon fill=\"black\" stroke=\"black\" points=\"233.25,-175.48 240.82,-168.07 230.28,-169.14 233.25,-175.48\"/>\n</g>\n<!-- 134557430149712 -->\n<g id=\"node10\" class=\"node\">\n<title>134557430149712</title>\n<polygon fill=\"none\" stroke=\"black\" points=\"1072.5,-28.5 1072.5,-64.5 1254.5,-64.5 1254.5,-28.5 1072.5,-28.5\"/>\n<text text-anchor=\"middle\" x=\"1082.5\" y=\"-42.8\" font-family=\"Times,serif\" font-size=\"14.00\"> </text>\n<polyline fill=\"none\" stroke=\"black\" points=\"1092.5,-28.5 1092.5,-64.5 \"/>\n<text text-anchor=\"middle\" x=\"1132.5\" y=\"-42.8\" font-family=\"Times,serif\" font-size=\"14.00\">data 2.0000</text>\n<polyline fill=\"none\" stroke=\"black\" points=\"1172.5,-28.5 1172.5,-64.5 \"/>\n<text text-anchor=\"middle\" x=\"1213.5\" y=\"-42.8\" font-family=\"Times,serif\" font-size=\"14.00\">grad 0.2203</text>\n</g>\n<!-- 134557430149712&#45;&gt;134557430140832* -->\n<g id=\"edge16\" class=\"edge\">\n<title>134557430149712&#45;&gt;134557430140832*</title>\n<path fill=\"none\" stroke=\"black\" d=\"M1254.68,-62.36C1264.61,-64.11 1274.23,-65.8 1282.84,-67.32\"/>\n<polygon fill=\"black\" stroke=\"black\" points=\"1282.36,-70.78 1292.81,-69.07 1283.57,-63.89 1282.36,-70.78\"/>\n</g>\n<!-- 134557433675392 -->\n<g id=\"node11\" class=\"node\">\n<title>134557433675392</title>\n<polygon fill=\"none\" stroke=\"black\" points=\"2.5,-84.5 2.5,-120.5 197.5,-120.5 197.5,-84.5 2.5,-84.5\"/>\n<text text-anchor=\"middle\" x=\"19\" y=\"-98.8\" font-family=\"Times,serif\" font-size=\"14.00\">w2</text>\n<polyline fill=\"none\" stroke=\"black\" points=\"35.5,-84.5 35.5,-120.5 \"/>\n<text text-anchor=\"middle\" x=\"75.5\" y=\"-98.8\" font-family=\"Times,serif\" font-size=\"14.00\">data 1.0000</text>\n<polyline fill=\"none\" stroke=\"black\" points=\"115.5,-84.5 115.5,-120.5 \"/>\n<text text-anchor=\"middle\" x=\"156.5\" y=\"-98.8\" font-family=\"Times,serif\" font-size=\"14.00\">grad 0.0000</text>\n</g>\n<!-- 134557430144480* -->\n<g id=\"node27\" class=\"node\">\n<title>134557430144480*</title>\n<ellipse fill=\"none\" stroke=\"black\" cx=\"263\" cy=\"-102.5\" rx=\"27\" ry=\"18\"/>\n<text text-anchor=\"middle\" x=\"263\" y=\"-98.8\" font-family=\"Times,serif\" font-size=\"14.00\">*</text>\n</g>\n<!-- 134557433675392&#45;&gt;134557430144480* -->\n<g id=\"edge13\" class=\"edge\">\n<title>134557433675392&#45;&gt;134557430144480*</title>\n<path fill=\"none\" stroke=\"black\" d=\"M197.91,-102.5C207.65,-102.5 217.05,-102.5 225.52,-102.5\"/>\n<polygon fill=\"black\" stroke=\"black\" points=\"225.7,-106 235.7,-102.5 225.7,-99 225.7,-106\"/>\n</g>\n<!-- 134557430141600 -->\n<g id=\"node12\" class=\"node\">\n<title>134557430141600</title>\n<polygon fill=\"none\" stroke=\"black\" points=\"672,-111.5 672,-147.5 945,-147.5 945,-111.5 672,-111.5\"/>\n<text text-anchor=\"middle\" x=\"725\" y=\"-125.8\" font-family=\"Times,serif\" font-size=\"14.00\">x1*w1 + x2*w2</text>\n<polyline fill=\"none\" stroke=\"black\" points=\"778,-111.5 778,-147.5 \"/>\n<text text-anchor=\"middle\" x=\"820.5\" y=\"-125.8\" font-family=\"Times,serif\" font-size=\"14.00\">data &#45;6.0000</text>\n<polyline fill=\"none\" stroke=\"black\" points=\"863,-111.5 863,-147.5 \"/>\n<text text-anchor=\"middle\" x=\"904\" y=\"-125.8\" font-family=\"Times,serif\" font-size=\"14.00\">grad 0.5000</text>\n</g>\n<!-- 134557430141600&#45;&gt;134557430149184+ -->\n<g id=\"edge12\" class=\"edge\">\n<title>134557430141600&#45;&gt;134557430149184+</title>\n<path fill=\"none\" stroke=\"black\" d=\"M936.53,-111.49C949.09,-109.71 960.99,-108.02 971.3,-106.56\"/>\n<polygon fill=\"black\" stroke=\"black\" points=\"972.03,-109.99 981.44,-105.12 971.05,-103.06 972.03,-109.99\"/>\n</g>\n<!-- 134557430141600+&#45;&gt;134557430141600 -->\n<g id=\"edge5\" class=\"edge\">\n<title>134557430141600+&#45;&gt;134557430141600</title>\n<path fill=\"none\" stroke=\"black\" d=\"M636.23,-129.5C643.7,-129.5 652.41,-129.5 661.87,-129.5\"/>\n<polygon fill=\"black\" stroke=\"black\" points=\"661.98,-133 671.98,-129.5 661.98,-126 661.98,-133\"/>\n</g>\n<!-- 134557430140064 -->\n<g id=\"node14\" class=\"node\">\n<title>134557430140064</title>\n<polygon fill=\"none\" stroke=\"black\" points=\"2443,-80.5 2443,-116.5 2625,-116.5 2625,-80.5 2443,-80.5\"/>\n<text text-anchor=\"middle\" x=\"2453\" y=\"-94.8\" font-family=\"Times,serif\" font-size=\"14.00\"> </text>\n<polyline fill=\"none\" stroke=\"black\" points=\"2463,-80.5 2463,-116.5 \"/>\n<text text-anchor=\"middle\" x=\"2503\" y=\"-94.8\" font-family=\"Times,serif\" font-size=\"14.00\">data 0.1464</text>\n<polyline fill=\"none\" stroke=\"black\" points=\"2543,-80.5 2543,-116.5 \"/>\n<text text-anchor=\"middle\" x=\"2584\" y=\"-94.8\" font-family=\"Times,serif\" font-size=\"14.00\">grad 4.8284</text>\n</g>\n<!-- 134557430140064&#45;&gt;134557430152208* -->\n<g id=\"edge20\" class=\"edge\">\n<title>134557430140064&#45;&gt;134557430152208*</title>\n<path fill=\"none\" stroke=\"black\" d=\"M2625.18,-83.08C2634.42,-81.49 2643.38,-79.96 2651.47,-78.58\"/>\n<polygon fill=\"black\" stroke=\"black\" points=\"2652.29,-81.99 2661.56,-76.85 2651.11,-75.09 2652.29,-81.99\"/>\n</g>\n<!-- 134557430140064**&#45;1 -->\n<g id=\"node15\" class=\"node\">\n<title>134557430140064**&#45;1</title>\n<ellipse fill=\"none\" stroke=\"black\" cx=\"2316\" cy=\"-100.5\" rx=\"27\" ry=\"18\"/>\n<text text-anchor=\"middle\" x=\"2316\" y=\"-96.8\" font-family=\"Times,serif\" font-size=\"14.00\">**&#45;1</text>\n</g>\n<!-- 134557430140064**&#45;1&#45;&gt;134557430140064 -->\n<g id=\"edge6\" class=\"edge\">\n<title>134557430140064**&#45;1&#45;&gt;134557430140064</title>\n<path fill=\"none\" stroke=\"black\" d=\"M2343.05,-100.26C2365.53,-100.05 2399.48,-99.74 2432.5,-99.43\"/>\n<polygon fill=\"black\" stroke=\"black\" points=\"2432.74,-102.93 2442.7,-99.34 2432.67,-95.93 2432.74,-102.93\"/>\n</g>\n<!-- 134557430149856 -->\n<g id=\"node16\" class=\"node\">\n<title>134557430149856</title>\n<polygon fill=\"none\" stroke=\"black\" points=\"1690.5,-110.5 1690.5,-146.5 1876.5,-146.5 1876.5,-110.5 1690.5,-110.5\"/>\n<text text-anchor=\"middle\" x=\"1700.5\" y=\"-124.8\" font-family=\"Times,serif\" font-size=\"14.00\"> </text>\n<polyline fill=\"none\" stroke=\"black\" points=\"1710.5,-110.5 1710.5,-146.5 \"/>\n<text text-anchor=\"middle\" x=\"1750.5\" y=\"-124.8\" font-family=\"Times,serif\" font-size=\"14.00\">data 1.0000</text>\n<polyline fill=\"none\" stroke=\"black\" points=\"1790.5,-110.5 1790.5,-146.5 \"/>\n<text text-anchor=\"middle\" x=\"1833.5\" y=\"-124.8\" font-family=\"Times,serif\" font-size=\"14.00\">grad &#45;0.1036</text>\n</g>\n<!-- 134557430145344+ -->\n<g id=\"node18\" class=\"node\">\n<title>134557430145344+</title>\n<ellipse fill=\"none\" stroke=\"black\" cx=\"1940\" cy=\"-100.5\" rx=\"27\" ry=\"18\"/>\n<text text-anchor=\"middle\" x=\"1940\" y=\"-96.8\" font-family=\"Times,serif\" font-size=\"14.00\">+</text>\n</g>\n<!-- 134557430149856&#45;&gt;134557430145344+ -->\n<g id=\"edge21\" class=\"edge\">\n<title>134557430149856&#45;&gt;134557430145344+</title>\n<path fill=\"none\" stroke=\"black\" d=\"M1876.6,-111.81C1886.15,-110.08 1895.37,-108.41 1903.68,-106.9\"/>\n<polygon fill=\"black\" stroke=\"black\" points=\"1904.43,-110.32 1913.65,-105.09 1903.18,-103.43 1904.43,-110.32\"/>\n</g>\n<!-- 134557430145344 -->\n<g id=\"node17\" class=\"node\">\n<title>134557430145344</title>\n<polygon fill=\"none\" stroke=\"black\" points=\"2003,-82.5 2003,-118.5 2189,-118.5 2189,-82.5 2003,-82.5\"/>\n<text text-anchor=\"middle\" x=\"2013\" y=\"-96.8\" font-family=\"Times,serif\" font-size=\"14.00\"> </text>\n<polyline fill=\"none\" stroke=\"black\" points=\"2023,-82.5 2023,-118.5 \"/>\n<text text-anchor=\"middle\" x=\"2063\" y=\"-96.8\" font-family=\"Times,serif\" font-size=\"14.00\">data 6.8284</text>\n<polyline fill=\"none\" stroke=\"black\" points=\"2103,-82.5 2103,-118.5 \"/>\n<text text-anchor=\"middle\" x=\"2146\" y=\"-96.8\" font-family=\"Times,serif\" font-size=\"14.00\">grad &#45;0.1036</text>\n</g>\n<!-- 134557430145344&#45;&gt;134557430140064**&#45;1 -->\n<g id=\"edge22\" class=\"edge\">\n<title>134557430145344&#45;&gt;134557430140064**&#45;1</title>\n<path fill=\"none\" stroke=\"black\" d=\"M2189.14,-100.5C2220.72,-100.5 2254.24,-100.5 2278.74,-100.5\"/>\n<polygon fill=\"black\" stroke=\"black\" points=\"2278.98,-104 2288.98,-100.5 2278.98,-97 2278.98,-104\"/>\n</g>\n<!-- 134557430145344+&#45;&gt;134557430145344 -->\n<g id=\"edge7\" class=\"edge\">\n<title>134557430145344+&#45;&gt;134557430145344</title>\n<path fill=\"none\" stroke=\"black\" d=\"M1967.12,-100.5C1974.62,-100.5 1983.29,-100.5 1992.5,-100.5\"/>\n<polygon fill=\"black\" stroke=\"black\" points=\"1992.69,-104 2002.69,-100.5 1992.69,-97 1992.69,-104\"/>\n</g>\n<!-- 134557430142800 -->\n<g id=\"node19\" class=\"node\">\n<title>134557430142800</title>\n<polygon fill=\"none\" stroke=\"black\" points=\"1690,-0.5 1690,-36.5 1877,-36.5 1877,-0.5 1690,-0.5\"/>\n<text text-anchor=\"middle\" x=\"1700\" y=\"-14.8\" font-family=\"Times,serif\" font-size=\"14.00\"> </text>\n<polyline fill=\"none\" stroke=\"black\" points=\"1710,-0.5 1710,-36.5 \"/>\n<text text-anchor=\"middle\" x=\"1752.5\" y=\"-14.8\" font-family=\"Times,serif\" font-size=\"14.00\">data &#45;1.0000</text>\n<polyline fill=\"none\" stroke=\"black\" points=\"1795,-0.5 1795,-36.5 \"/>\n<text text-anchor=\"middle\" x=\"1836\" y=\"-14.8\" font-family=\"Times,serif\" font-size=\"14.00\">grad 0.1464</text>\n</g>\n<!-- 134557430142800&#45;&gt;134557430140928+ -->\n<g id=\"edge28\" class=\"edge\">\n<title>134557430142800&#45;&gt;134557430140928+</title>\n<path fill=\"none\" stroke=\"black\" d=\"M1877.05,-34.67C1886.34,-36.3 1895.33,-37.87 1903.44,-39.29\"/>\n<polygon fill=\"black\" stroke=\"black\" points=\"1903.1,-42.78 1913.55,-41.05 1904.3,-35.88 1903.1,-42.78\"/>\n</g>\n<!-- 134557433662336 -->\n<g id=\"node20\" class=\"node\">\n<title>134557433662336</title>\n<polygon fill=\"none\" stroke=\"black\" points=\"716,-56.5 716,-92.5 901,-92.5 901,-56.5 716,-56.5\"/>\n<text text-anchor=\"middle\" x=\"727.5\" y=\"-70.8\" font-family=\"Times,serif\" font-size=\"14.00\">b</text>\n<polyline fill=\"none\" stroke=\"black\" points=\"739,-56.5 739,-92.5 \"/>\n<text text-anchor=\"middle\" x=\"779\" y=\"-70.8\" font-family=\"Times,serif\" font-size=\"14.00\">data 6.8814</text>\n<polyline fill=\"none\" stroke=\"black\" points=\"819,-56.5 819,-92.5 \"/>\n<text text-anchor=\"middle\" x=\"860\" y=\"-70.8\" font-family=\"Times,serif\" font-size=\"14.00\">grad 0.5000</text>\n</g>\n<!-- 134557433662336&#45;&gt;134557430149184+ -->\n<g id=\"edge23\" class=\"edge\">\n<title>134557433662336&#45;&gt;134557430149184+</title>\n<path fill=\"none\" stroke=\"black\" d=\"M901.02,-87.01C926,-90.43 951.59,-93.93 971.37,-96.63\"/>\n<polygon fill=\"black\" stroke=\"black\" points=\"971.05,-100.12 981.43,-98.01 972,-93.18 971.05,-100.12\"/>\n</g>\n<!-- 134557430138768 -->\n<g id=\"node21\" class=\"node\">\n<title>134557430138768</title>\n<polygon fill=\"none\" stroke=\"black\" points=\"1692.5,-55.5 1692.5,-91.5 1874.5,-91.5 1874.5,-55.5 1692.5,-55.5\"/>\n<text text-anchor=\"middle\" x=\"1702.5\" y=\"-69.8\" font-family=\"Times,serif\" font-size=\"14.00\"> </text>\n<polyline fill=\"none\" stroke=\"black\" points=\"1712.5,-55.5 1712.5,-91.5 \"/>\n<text text-anchor=\"middle\" x=\"1752.5\" y=\"-69.8\" font-family=\"Times,serif\" font-size=\"14.00\">data 5.8284</text>\n<polyline fill=\"none\" stroke=\"black\" points=\"1792.5,-55.5 1792.5,-91.5 \"/>\n<text text-anchor=\"middle\" x=\"1833.5\" y=\"-69.8\" font-family=\"Times,serif\" font-size=\"14.00\">grad 0.0429</text>\n</g>\n<!-- 134557430138768&#45;&gt;134557430140928+ -->\n<g id=\"edge18\" class=\"edge\">\n<title>134557430138768&#45;&gt;134557430140928+</title>\n<path fill=\"none\" stroke=\"black\" d=\"M1874.82,-57.13C1885.07,-55.27 1895.01,-53.47 1903.88,-51.87\"/>\n<polygon fill=\"black\" stroke=\"black\" points=\"1904.54,-55.3 1913.75,-50.08 1903.29,-48.42 1904.54,-55.3\"/>\n</g>\n<!-- 134557430138768&#45;&gt;134557430145344+ -->\n<g id=\"edge25\" class=\"edge\">\n<title>134557430138768&#45;&gt;134557430145344+</title>\n<path fill=\"none\" stroke=\"black\" d=\"M1874.82,-89.28C1885.07,-91.08 1895.01,-92.81 1903.88,-94.36\"/>\n<polygon fill=\"black\" stroke=\"black\" points=\"1903.3,-97.81 1913.75,-96.09 1904.5,-90.92 1903.3,-97.81\"/>\n</g>\n<!-- 134557430138768exp -->\n<g id=\"node22\" class=\"node\">\n<title>134557430138768exp</title>\n<ellipse fill=\"none\" stroke=\"black\" cx=\"1627\" cy=\"-73.5\" rx=\"27\" ry=\"18\"/>\n<text text-anchor=\"middle\" x=\"1627\" y=\"-69.8\" font-family=\"Times,serif\" font-size=\"14.00\">exp</text>\n</g>\n<!-- 134557430138768exp&#45;&gt;134557430138768 -->\n<g id=\"edge8\" class=\"edge\">\n<title>134557430138768exp&#45;&gt;134557430138768</title>\n<path fill=\"none\" stroke=\"black\" d=\"M1654.21,-73.5C1662.34,-73.5 1671.85,-73.5 1681.94,-73.5\"/>\n<polygon fill=\"black\" stroke=\"black\" points=\"1682.19,-77 1692.19,-73.5 1682.19,-70 1682.19,-77\"/>\n</g>\n<!-- 134557430140832 -->\n<g id=\"node23\" class=\"node\">\n<title>134557430140832</title>\n<polygon fill=\"none\" stroke=\"black\" points=\"1382,-55.5 1382,-91.5 1564,-91.5 1564,-55.5 1382,-55.5\"/>\n<text text-anchor=\"middle\" x=\"1392\" y=\"-69.8\" font-family=\"Times,serif\" font-size=\"14.00\"> </text>\n<polyline fill=\"none\" stroke=\"black\" points=\"1402,-55.5 1402,-91.5 \"/>\n<text text-anchor=\"middle\" x=\"1442\" y=\"-69.8\" font-family=\"Times,serif\" font-size=\"14.00\">data 1.7627</text>\n<polyline fill=\"none\" stroke=\"black\" points=\"1482,-55.5 1482,-91.5 \"/>\n<text text-anchor=\"middle\" x=\"1523\" y=\"-69.8\" font-family=\"Times,serif\" font-size=\"14.00\">grad 0.2500</text>\n</g>\n<!-- 134557430140832&#45;&gt;134557430138768exp -->\n<g id=\"edge26\" class=\"edge\">\n<title>134557430140832&#45;&gt;134557430138768exp</title>\n<path fill=\"none\" stroke=\"black\" d=\"M1564.18,-73.5C1573.14,-73.5 1581.83,-73.5 1589.73,-73.5\"/>\n<polygon fill=\"black\" stroke=\"black\" points=\"1589.96,-77 1599.96,-73.5 1589.96,-70 1589.96,-77\"/>\n</g>\n<!-- 134557430140832*&#45;&gt;134557430140832 -->\n<g id=\"edge9\" class=\"edge\">\n<title>134557430140832*&#45;&gt;134557430140832</title>\n<path fill=\"none\" stroke=\"black\" d=\"M1346.13,-73.5C1353.67,-73.5 1362.39,-73.5 1371.64,-73.5\"/>\n<polygon fill=\"black\" stroke=\"black\" points=\"1371.87,-77 1381.87,-73.5 1371.87,-70 1371.87,-77\"/>\n</g>\n<!-- 134557433663920 -->\n<g id=\"node25\" class=\"node\">\n<title>134557433663920</title>\n<polygon fill=\"none\" stroke=\"black\" points=\"4,-29.5 4,-65.5 196,-65.5 196,-29.5 4,-29.5\"/>\n<text text-anchor=\"middle\" x=\"19\" y=\"-43.8\" font-family=\"Times,serif\" font-size=\"14.00\">x2</text>\n<polyline fill=\"none\" stroke=\"black\" points=\"34,-29.5 34,-65.5 \"/>\n<text text-anchor=\"middle\" x=\"74\" y=\"-43.8\" font-family=\"Times,serif\" font-size=\"14.00\">data 0.0000</text>\n<polyline fill=\"none\" stroke=\"black\" points=\"114,-29.5 114,-65.5 \"/>\n<text text-anchor=\"middle\" x=\"155\" y=\"-43.8\" font-family=\"Times,serif\" font-size=\"14.00\">grad 0.5000</text>\n</g>\n<!-- 134557433663920&#45;&gt;134557430144480* -->\n<g id=\"edge11\" class=\"edge\">\n<title>134557433663920&#45;&gt;134557430144480*</title>\n<path fill=\"none\" stroke=\"black\" d=\"M172.53,-65.56C181.84,-68.33 191.2,-71.33 200,-74.5 210.53,-78.29 221.75,-83.1 231.72,-87.67\"/>\n<polygon fill=\"black\" stroke=\"black\" points=\"230.28,-90.86 240.82,-91.93 233.25,-84.52 230.28,-90.86\"/>\n</g>\n<!-- 134557430144480 -->\n<g id=\"node26\" class=\"node\">\n<title>134557430144480</title>\n<polygon fill=\"none\" stroke=\"black\" points=\"328.5,-84.5 328.5,-120.5 543.5,-120.5 543.5,-84.5 328.5,-84.5\"/>\n<text text-anchor=\"middle\" x=\"355\" y=\"-98.8\" font-family=\"Times,serif\" font-size=\"14.00\">x2*w2</text>\n<polyline fill=\"none\" stroke=\"black\" points=\"381.5,-84.5 381.5,-120.5 \"/>\n<text text-anchor=\"middle\" x=\"421.5\" y=\"-98.8\" font-family=\"Times,serif\" font-size=\"14.00\">data 0.0000</text>\n<polyline fill=\"none\" stroke=\"black\" points=\"461.5,-84.5 461.5,-120.5 \"/>\n<text text-anchor=\"middle\" x=\"502.5\" y=\"-98.8\" font-family=\"Times,serif\" font-size=\"14.00\">grad 0.5000</text>\n</g>\n<!-- 134557430144480&#45;&gt;134557430141600+ -->\n<g id=\"edge19\" class=\"edge\">\n<title>134557430144480&#45;&gt;134557430141600+</title>\n<path fill=\"none\" stroke=\"black\" d=\"M543.84,-119.37C554.01,-120.98 563.76,-122.51 572.44,-123.89\"/>\n<polygon fill=\"black\" stroke=\"black\" points=\"572.05,-127.37 582.47,-125.47 573.14,-120.45 572.05,-127.37\"/>\n</g>\n<!-- 134557430144480*&#45;&gt;134557430144480 -->\n<g id=\"edge10\" class=\"edge\">\n<title>134557430144480*&#45;&gt;134557430144480</title>\n<path fill=\"none\" stroke=\"black\" d=\"M290.34,-102.5C298.51,-102.5 308.08,-102.5 318.36,-102.5\"/>\n<polygon fill=\"black\" stroke=\"black\" points=\"318.39,-106 328.39,-102.5 318.39,-99 318.39,-106\"/>\n</g>\n<!-- 134557433673712 -->\n<g id=\"node28\" class=\"node\">\n<title>134557433673712</title>\n<polygon fill=\"none\" stroke=\"black\" points=\"0,-139.5 0,-175.5 200,-175.5 200,-139.5 0,-139.5\"/>\n<text text-anchor=\"middle\" x=\"16.5\" y=\"-153.8\" font-family=\"Times,serif\" font-size=\"14.00\">w1</text>\n<polyline fill=\"none\" stroke=\"black\" points=\"33,-139.5 33,-175.5 \"/>\n<text text-anchor=\"middle\" x=\"75.5\" y=\"-153.8\" font-family=\"Times,serif\" font-size=\"14.00\">data &#45;3.0000</text>\n<polyline fill=\"none\" stroke=\"black\" points=\"118,-139.5 118,-175.5 \"/>\n<text text-anchor=\"middle\" x=\"159\" y=\"-153.8\" font-family=\"Times,serif\" font-size=\"14.00\">grad 1.0000</text>\n</g>\n<!-- 134557433673712&#45;&gt;134557430142848* -->\n<g id=\"edge24\" class=\"edge\">\n<title>134557433673712&#45;&gt;134557430142848*</title>\n<path fill=\"none\" stroke=\"black\" d=\"M200.21,-157.5C209.2,-157.5 217.86,-157.5 225.7,-157.5\"/>\n<polygon fill=\"black\" stroke=\"black\" points=\"225.85,-161 235.85,-157.5 225.85,-154 225.85,-161\"/>\n</g>\n</g>\n</svg>\n",
            "text/plain": [
              "<graphviz.graphs.Digraph at 0x7a6117d36e60>"
            ]
          },
          "metadata": {},
          "execution_count": 1108
        }
      ]
    },
    {
      "cell_type": "code",
      "source": [
        "class Neuron:\n",
        "\n",
        "  def __init__(self, nin): # nin = number of inputs\n",
        "    # w = weights\n",
        "    self.w = [Value(random.uniform(-1, 1)) for _ in range(nin)]\n",
        "    # b = bias\n",
        "    self.b = Value(random.uniform(-1, 1))\n",
        "\n",
        "  def __call__(self, x):\n",
        "    # w * x + b\n",
        "    # w * x is a dot product\n",
        "    # x is an array of values\n",
        "\n",
        "    act = sum((wi * xi for wi, xi in zip(self.w, x)), self.b)\n",
        "    out = act.tanh()\n",
        "\n",
        "    return out\n",
        "\n",
        "  def parameters(self):\n",
        "    return self.w + [self.b]\n",
        "\n",
        "class Layer:\n",
        "\n",
        "  def __init__(self, nin, nout):\n",
        "    # nout = how many neurons you want in this layer\n",
        "    self.neurons = [Neuron(nin) for _ in range(nout)]\n",
        "\n",
        "  def __call__(self, x):\n",
        "    outs = [n(x) for n in self.neurons]\n",
        "    return outs[0] if len(outs) == 1 else outs\n",
        "\n",
        "  def parameters(self):\n",
        "    params = []\n",
        "    for neuron in self.neurons:\n",
        "      ps = neuron.parameters()\n",
        "      params.extend(ps)\n",
        "    return params\n",
        "\n",
        "class MLP:\n",
        "\n",
        "  def __init__(self, nin, nouts):\n",
        "    # nouts is a list and defines the sizes of all the layers that we want in our MLP\n",
        "    sz = [nin] + nouts\n",
        "    self.layers = [Layer(sz[i], sz[i + 1]) for i in range(len(nouts))]\n",
        "\n",
        "  def __call__(self, x):\n",
        "    for layer in self.layers:\n",
        "      x = layer(x)\n",
        "    return x\n",
        "\n",
        "  def parameters(self):\n",
        "    return [p for layer in self.layers for p in layer.parameters()]"
      ],
      "metadata": {
        "id": "qFoiO0ug087s"
      },
      "execution_count": 1109,
      "outputs": []
    },
    {
      "cell_type": "code",
      "source": [
        "x = [2.0, 3.0, -1.0]\n",
        "n = MLP(3, [4, 4, 1])\n",
        "n(x)\n",
        "\n",
        "# draw_dot(n(x))\n",
        "\n",
        "n.parameters()"
      ],
      "metadata": {
        "colab": {
          "base_uri": "https://localhost:8080/"
        },
        "id": "EBrp7LEk4aas",
        "outputId": "9ba1d2b3-459b-4e12-c633-7c244778479c"
      },
      "execution_count": 1110,
      "outputs": [
        {
          "output_type": "execute_result",
          "data": {
            "text/plain": [
              "[Value(data=0.5415256861265942),\n",
              " Value(data=-0.9084300058430956),\n",
              " Value(data=-0.24083825336313058),\n",
              " Value(data=-0.4654286432276311),\n",
              " Value(data=-0.20513520019664022),\n",
              " Value(data=0.19241361537035884),\n",
              " Value(data=-0.9018073877866863),\n",
              " Value(data=0.41715597989701925),\n",
              " Value(data=0.08480750949154703),\n",
              " Value(data=-0.01728323401663756),\n",
              " Value(data=0.3913199394405773),\n",
              " Value(data=-0.9293591123066649),\n",
              " Value(data=-0.4434039922883848),\n",
              " Value(data=-0.37440334434515776),\n",
              " Value(data=0.13611819178293771),\n",
              " Value(data=0.1826082177123043),\n",
              " Value(data=-0.9631949525144456),\n",
              " Value(data=0.3084698877029799),\n",
              " Value(data=0.5857271648346349),\n",
              " Value(data=0.08070006112901074),\n",
              " Value(data=-0.18295912919263624),\n",
              " Value(data=-0.8030361080139188),\n",
              " Value(data=-0.4713631668825782),\n",
              " Value(data=0.8900094590457532),\n",
              " Value(data=0.3599930711902437),\n",
              " Value(data=-0.004307546174725951),\n",
              " Value(data=0.42080834256396704),\n",
              " Value(data=-0.6370972104558066),\n",
              " Value(data=-0.0032488428239962897),\n",
              " Value(data=0.6853135175648393),\n",
              " Value(data=0.47845889742042735),\n",
              " Value(data=0.6496183018668804),\n",
              " Value(data=-0.5174729992159588),\n",
              " Value(data=-0.8053208265168563),\n",
              " Value(data=-0.8108213497172749),\n",
              " Value(data=0.3602586463420767),\n",
              " Value(data=0.5029083673871526),\n",
              " Value(data=0.4119388170892859),\n",
              " Value(data=0.8296310753745701),\n",
              " Value(data=-0.7021921597791025),\n",
              " Value(data=0.352703769949114)]"
            ]
          },
          "metadata": {},
          "execution_count": 1110
        }
      ]
    },
    {
      "cell_type": "code",
      "source": [
        "# dataset\n",
        "\n",
        "xs = [\n",
        "    [2.0, 3.0, -1.0], # the network should return 1.0\n",
        "    [3.0, -1.0, 0.5], # the network should return -1.0\n",
        "    [0.5, 1.0, 1.0],  # the network should return -1.0\n",
        "    [1.0, 1.0, -1.0]  # the network should return 1.0\n",
        "]\n",
        "\n",
        "ys = [1.0, -1.0, -1.0, 1.0] # desired targets\n",
        "\n",
        "for k in range(20):\n",
        "  # forward pass\n",
        "  ypred = [n(x) for x in xs]\n",
        "\n",
        "  # loss = a single number that measures the total performance of your neural net, it measures how well the neural net is performing\n",
        "  # ygt = y ground truth\n",
        "  # yout = y output\n",
        "  # mean squared error\n",
        "  # you only get 0 when yout is equal to ygt (the prediction is the target)\n",
        "  # the more off we are the greater the loss will be, we want low loss\n",
        "  loss = sum((yout - ygt)**2 for ygt, yout in zip(ys, ypred))\n",
        "\n",
        "  # backward pass\n",
        "  for p in n.parameters():\n",
        "    p.grad = 0.0\n",
        "  loss.backward()\n",
        "\n",
        "  # update\n",
        "  for p in n.parameters():\n",
        "    p.data += -0.05 * p.grad\n",
        "\n",
        "  print(k, loss.data)"
      ],
      "metadata": {
        "colab": {
          "base_uri": "https://localhost:8080/"
        },
        "id": "MNwN1lHd7EK0",
        "outputId": "c7649e9b-e4e3-4ece-82c7-dc727bfd9095"
      },
      "execution_count": 1111,
      "outputs": [
        {
          "output_type": "stream",
          "name": "stdout",
          "text": [
            "0 7.884592065941685\n",
            "1 4.688493189209855\n",
            "2 2.1688581946900696\n",
            "3 1.228297130773779\n",
            "4 0.6621254100877625\n",
            "5 0.39484721679676954\n",
            "6 0.2682099762543629\n",
            "7 0.1992292986167822\n",
            "8 0.15691893799458032\n",
            "9 0.12868338725715017\n",
            "10 0.10864920299797659\n",
            "11 0.09376649869103418\n",
            "12 0.08231195805429807\n",
            "13 0.07324487416735898\n",
            "14 0.06590241985616811\n",
            "15 0.0598437373735728\n",
            "16 0.054764882151686754\n",
            "17 0.05044987741321175\n",
            "18 0.04674125429514198\n",
            "19 0.04352162801891678\n"
          ]
        }
      ]
    },
    {
      "cell_type": "code",
      "source": [
        "ypred"
      ],
      "metadata": {
        "colab": {
          "base_uri": "https://localhost:8080/"
        },
        "id": "mDHjszI8unwg",
        "outputId": "12de8cb6-72e0-477f-efb6-64a8420d4d21"
      },
      "execution_count": 1112,
      "outputs": [
        {
          "output_type": "execute_result",
          "data": {
            "text/plain": [
              "[Value(data=0.9346504987782087),\n",
              " Value(data=-0.9327210610096204),\n",
              " Value(data=-0.8529373695114719),\n",
              " Value(data=0.8855570107385197)]"
            ]
          },
          "metadata": {},
          "execution_count": 1112
        }
      ]
    },
    {
      "cell_type": "code",
      "source": [
        "n = MLP(2, [3, 3, 1])\n",
        "xs = [\n",
        "    [1.0, 2.0],\n",
        "    [3.0, 4.0],\n",
        "    [-6.0, 5.0],\n",
        "    [-8.0, 7.0],\n",
        "    [9.0, 10.0],\n",
        "    [-12.0, 11.0],\n",
        "    [-14.0, 13.0],\n",
        "    [15.0, 16.0],\n",
        "    [-20.0, -30.0],\n",
        "    [-55.0, -80.0],\n",
        "    [-90.0, -85.0],\n",
        "    [78.0, -123.0],\n",
        "    [20.0, -10.0],\n",
        "    [30.0, -15.0],\n",
        "    [35.0, 25.0],\n",
        "    [11.0, 22.0],\n",
        "    [10.0, 20.0],\n",
        "    [10.0, 9.0],\n",
        "    [88.0, 85.0],\n",
        "    [30.0, 10.0]\n",
        "]\n",
        "ys = [1.0, 1.0, -1.0, -1.0, 1.0, -1.0, -1.0, 1.0, -1.0, -1.0, -1.0, -1.0, -1.0, -1.0, 1.0, 1.0, 1.0, 1.0, 1.0, 1.0]"
      ],
      "metadata": {
        "id": "tGj3XHBcDAqE"
      },
      "execution_count": 1113,
      "outputs": []
    },
    {
      "cell_type": "code",
      "source": [
        "for k in range(20):\n",
        "  # forward pass\n",
        "  ypred = [n(x) for x in xs]\n",
        "\n",
        "  loss = sum((yout - ygt)**2 for ygt, yout in zip(ys, ypred))\n",
        "\n",
        "  # backward pass\n",
        "  for p in n.parameters():\n",
        "    p.grad = 0.0\n",
        "  loss.backward()\n",
        "\n",
        "  # update\n",
        "  for p in n.parameters():\n",
        "    p.data += -0.05 * p.grad\n",
        "\n",
        "  print(k, loss.data)"
      ],
      "metadata": {
        "colab": {
          "base_uri": "https://localhost:8080/"
        },
        "id": "-FNz78Z4GPQQ",
        "outputId": "621fc8ea-073e-4656-dd5c-bae2e820005e"
      },
      "execution_count": 1114,
      "outputs": [
        {
          "output_type": "stream",
          "name": "stdout",
          "text": [
            "0 20.009594953923624\n",
            "1 5.072134093778016\n",
            "2 2.199096311783947\n",
            "3 0.9095285248331577\n",
            "4 0.47771769733015423\n",
            "5 0.3636894539526795\n",
            "6 0.29472223006728704\n",
            "7 0.2469293588868698\n",
            "8 0.2118206465874287\n",
            "9 0.18498731615222808\n",
            "10 0.16385414666673528\n",
            "11 0.146809285092332\n",
            "12 0.13279206637229923\n",
            "13 0.12107652785019621\n",
            "14 0.11114954703645973\n",
            "15 0.1026385303636\n",
            "16 0.09526663642358844\n",
            "17 0.08882404350524503\n",
            "18 0.08314894299663211\n",
            "19 0.07811463057452706\n"
          ]
        }
      ]
    },
    {
      "cell_type": "code",
      "source": [
        "print(n([9.0, 82.0]))\n",
        "print(n([25.0, 125.0]))\n",
        "print(n([-18.0, 20.0]))\n",
        "print(n([3.0, -98.0]))\n",
        "print(n([-98.0, -78.0]))"
      ],
      "metadata": {
        "id": "cERjbupFH04f",
        "colab": {
          "base_uri": "https://localhost:8080/"
        },
        "outputId": "aefc9a8e-5ff2-40f1-c8d0-293fc53c1883"
      },
      "execution_count": 1115,
      "outputs": [
        {
          "output_type": "stream",
          "name": "stdout",
          "text": [
            "Value(data=0.9594171230674928)\n",
            "Value(data=0.9594171230674939)\n",
            "Value(data=-0.9194991469687952)\n",
            "Value(data=-0.9987285519642433)\n",
            "Value(data=-0.9987285519656303)\n"
          ]
        }
      ]
    },
    {
      "cell_type": "code",
      "source": [
        "n.parameters()"
      ],
      "metadata": {
        "colab": {
          "base_uri": "https://localhost:8080/"
        },
        "id": "clWByYFHR2ay",
        "outputId": "08edc988-9382-4765-d760-50ad97918e27"
      },
      "execution_count": 1119,
      "outputs": [
        {
          "output_type": "execute_result",
          "data": {
            "text/plain": [
              "[Value(data=0.19085808020199668),\n",
              " Value(data=-1.3377406871027027),\n",
              " Value(data=0.22422636270769028),\n",
              " Value(data=-0.20290203863843376),\n",
              " Value(data=0.433695300612576),\n",
              " Value(data=-0.700309198297024),\n",
              " Value(data=-0.6317835308557959),\n",
              " Value(data=-0.12628954135403891),\n",
              " Value(data=-0.16795350333850892),\n",
              " Value(data=-1.02821282712917),\n",
              " Value(data=0.821686864487533),\n",
              " Value(data=-0.36728611051414656),\n",
              " Value(data=0.39477188384414685),\n",
              " Value(data=0.7143631837411882),\n",
              " Value(data=-0.16434502145087557),\n",
              " Value(data=0.9219407304281764),\n",
              " Value(data=0.7484817859373586),\n",
              " Value(data=-0.31269336482385446),\n",
              " Value(data=-0.0739977118262481),\n",
              " Value(data=-1.0612560218672924),\n",
              " Value(data=-0.2218147485094786),\n",
              " Value(data=0.8052710730353487),\n",
              " Value(data=-1.305221004694559),\n",
              " Value(data=1.0265997264663544),\n",
              " Value(data=-0.6932303764102095)]"
            ]
          },
          "metadata": {},
          "execution_count": 1119
        }
      ]
    }
  ]
}